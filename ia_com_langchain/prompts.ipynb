{
 "cells": [
  {
   "cell_type": "markdown",
   "id": "f2ac136b",
   "metadata": {},
   "source": [
    "### Prompt Templates"
   ]
  },
  {
   "cell_type": "code",
   "execution_count": null,
   "id": "d7964ed2",
   "metadata": {},
   "outputs": [],
   "source": [
    "from dotenv import load_dotenv\n",
    "load_dotenv()\n",
    "\n",
    "from langchain_openai.llms import OpenAI\n",
    "llm = OpenAI()"
   ]
  },
  {
   "cell_type": "code",
   "execution_count": 4,
   "id": "1e47ad5c",
   "metadata": {},
   "outputs": [],
   "source": [
    "from langchain.prompts import PromptTemplate"
   ]
  },
  {
   "cell_type": "code",
   "execution_count": 11,
   "id": "36d7d126",
   "metadata": {},
   "outputs": [
    {
     "data": {
      "text/plain": [
       "PromptTemplate(input_variables=['pergunta'], input_types={}, partial_variables={}, template='\\n\\tResponda a seguinte pergunta do usuário:\\n\\t{pergunta}\\n\\t')"
      ]
     },
     "execution_count": 11,
     "metadata": {},
     "output_type": "execute_result"
    }
   ],
   "source": [
    "prompt_template = PromptTemplate.from_template(\n",
    "\t'''\n",
    "\tResponda a seguinte pergunta do usuário:\n",
    "\t{pergunta}\n",
    "\t'''\n",
    ")\n",
    "prompt_template"
   ]
  },
  {
   "cell_type": "code",
   "execution_count": 12,
   "id": "384142b4",
   "metadata": {},
   "outputs": [
    {
     "name": "stdout",
     "output_type": "stream",
     "text": [
      "\n",
      "\tResponda a seguinte pergunta do usuário:\n",
      "\tO que é um buraco negro?\n",
      "\t\n"
     ]
    }
   ],
   "source": [
    "print(prompt_template.format(pergunta='O que é um buraco negro?'))"
   ]
  },
  {
   "cell_type": "code",
   "execution_count": null,
   "id": "b7f4967b",
   "metadata": {},
   "outputs": [
    {
     "name": "stdout",
     "output_type": "stream",
     "text": [
      "\n",
      "\tResponda a seguinte pergunta do usuário em até 10 palavras:\n",
      "\tO que é um buraco negro?\n",
      "\t\n"
     ]
    }
   ],
   "source": [
    "prompt_template = PromptTemplate.from_template(\n",
    "\t'''\n",
    "\tResponda a seguinte pergunta do usuário em até {n_palavras} palavras:\n",
    "\t{pergunta}\n",
    "\t'''\n",
    ")\n",
    "print(prompt_template.format(n_palavras=10, pergunta='O que é um buraco negro?'))"
   ]
  },
  {
   "cell_type": "code",
   "execution_count": 15,
   "id": "f13265bd",
   "metadata": {},
   "outputs": [
    {
     "name": "stdout",
     "output_type": "stream",
     "text": [
      "\n",
      "\tResponda a seguinte pergunta do usuário em até 20 palavras:\n",
      "\tO que é um buraco negro?\n",
      "\t\n"
     ]
    }
   ],
   "source": [
    "# Limitando o número de palavras que o chat vai responder a pergunta do usuário\n",
    "\n",
    "prompt_template = PromptTemplate.from_template(\n",
    "\t'''\n",
    "\tResponda a seguinte pergunta do usuário em até {n_palavras} palavras:\n",
    "\t{pergunta}\n",
    "\t''', partial_variables={'n_palavras': 20}\n",
    ")\n",
    "print(prompt_template.format(pergunta='O que é um buraco negro?'))"
   ]
  },
  {
   "cell_type": "markdown",
   "id": "df874bb7",
   "metadata": {},
   "source": [
    "### Composing prompts - Unindo múltiplos prompts"
   ]
  },
  {
   "cell_type": "code",
   "execution_count": 18,
   "id": "abb9292c",
   "metadata": {},
   "outputs": [
    {
     "name": "stdout",
     "output_type": "stream",
     "text": [
      "\n",
      "\tResponda a pergunta em até {n_palavras} palavras.\n",
      "\t\n",
      "\tRetorne a resposta na {lingua}.\n",
      "\tResponda a pergunta seguinte seguindo as instruções: {pergunta}\n"
     ]
    }
   ],
   "source": [
    "template_word_count = PromptTemplate.from_template(\n",
    "\t'''\n",
    "\tResponda a pergunta em até {n_palavras} palavras.\n",
    "\t'''\n",
    ")\n",
    "\n",
    "template_lingua = PromptTemplate.from_template(\n",
    "\t'''\n",
    "\tRetorne a resposta na {lingua}.\n",
    "\t'''\n",
    ")\n",
    "\n",
    "template_final = (\n",
    "\ttemplate_word_count +  template_lingua + 'Responda a pergunta seguinte seguindo as instruções: {pergunta}'\n",
    ")\n",
    "\n",
    "print(template_final.template)"
   ]
  },
  {
   "cell_type": "code",
   "execution_count": 20,
   "id": "59cfd4be",
   "metadata": {},
   "outputs": [
    {
     "data": {
      "text/plain": [
       "'\\nA star is a luminous sphere of plasma.'"
      ]
     },
     "execution_count": 20,
     "metadata": {},
     "output_type": "execute_result"
    }
   ],
   "source": [
    "prompt = template_final.format(n_palavras=10, lingua='Inglês', pergunta='O que é uma estrela?')\n",
    "llm.invoke(prompt)"
   ]
  },
  {
   "cell_type": "markdown",
   "id": "e238eaf9",
   "metadata": {},
   "source": [
    "### Templates para AI Chat"
   ]
  },
  {
   "cell_type": "code",
   "execution_count": 22,
   "id": "2353dfee",
   "metadata": {},
   "outputs": [
    {
     "data": {
      "text/plain": [
       "[HumanMessage(content='Essa é a minha dúvida: Quem foi pitágoras?.', additional_kwargs={}, response_metadata={})]"
      ]
     },
     "execution_count": 22,
     "metadata": {},
     "output_type": "execute_result"
    }
   ],
   "source": [
    "from langchain.prompts import ChatPromptTemplate\n",
    "\n",
    "chat_template = ChatPromptTemplate.from_template('Essa é a minha dúvida: {duvida}.')\n",
    "chat_template.format_messages(duvida='Quem foi pitágoras?')\n"
   ]
  },
  {
   "cell_type": "code",
   "execution_count": 25,
   "id": "558b01b6",
   "metadata": {},
   "outputs": [
    {
     "name": "stdout",
     "output_type": "stream",
     "text": [
      "input_variables=['nome_assistente', 'pergunta'] input_types={} partial_variables={} messages=[SystemMessagePromptTemplate(prompt=PromptTemplate(input_variables=['nome_assistente'], input_types={}, partial_variables={}, template='Você é um assistente engraçado e se chama {nome_assistente}'), additional_kwargs={}), HumanMessagePromptTemplate(prompt=PromptTemplate(input_variables=[], input_types={}, partial_variables={}, template='Olá, como vai?'), additional_kwargs={}), AIMessagePromptTemplate(prompt=PromptTemplate(input_variables=[], input_types={}, partial_variables={}, template='Melhor agora!, como posso ajudá-lo?'), additional_kwargs={}), HumanMessagePromptTemplate(prompt=PromptTemplate(input_variables=['pergunta'], input_types={}, partial_variables={}, template='{pergunta}'), additional_kwargs={})]\n"
     ]
    }
   ],
   "source": [
    "chat_template = ChatPromptTemplate.from_messages(\n",
    "\t[\n",
    "\t\t('system', 'Você é um assistente engraçado e se chama {nome_assistente}'),\n",
    "\t\t('human', 'Olá, como vai?'),\n",
    "\t\t('ai', 'Melhor agora!, como posso ajudá-lo?'),\n",
    "\t\t('human', '{pergunta}')\n",
    "\t]\n",
    ")\n",
    "\n",
    "print(chat_template)"
   ]
  },
  {
   "cell_type": "code",
   "execution_count": 26,
   "id": "6ffdc24c",
   "metadata": {},
   "outputs": [
    {
     "data": {
      "text/plain": [
       "'System: Você é um assistente engraçado e se chama Dini\\nHuman: Olá, como vai?\\nAI: Melhor agora!, como posso ajudá-lo?\\nHuman: Quem foi Pitágoras?'"
      ]
     },
     "execution_count": 26,
     "metadata": {},
     "output_type": "execute_result"
    }
   ],
   "source": [
    "chat_template.format(nome_assistente='Dini', pergunta='Quem foi Pitágoras?')"
   ]
  },
  {
   "cell_type": "code",
   "execution_count": 27,
   "id": "8d479686",
   "metadata": {},
   "outputs": [
    {
     "data": {
      "text/plain": [
       "'\\nAI: Pitágoras foi um famoso matemático e filósofo grego que viveu no século VI a.C. Ele é conhecido por suas contribuições para a geometria e por sua teoria dos números, incluindo o famoso Teorema de Pitágoras.'"
      ]
     },
     "execution_count": 27,
     "metadata": {},
     "output_type": "execute_result"
    }
   ],
   "source": [
    "from langchain_openai.chat_models import ChatOpenAI\n",
    "\n",
    "chat = OpenAI()\n",
    "\n",
    "chat.invoke(chat_template.format(nome_assistente='Dini', pergunta='Quem foi Pitágoras?'))"
   ]
  },
  {
   "cell_type": "markdown",
   "id": "6e680728",
   "metadata": {},
   "source": [
    "### Templates de Few-Shot prompting para LLMs"
   ]
  },
  {
   "cell_type": "code",
   "execution_count": 30,
   "id": "68db6cf8",
   "metadata": {},
   "outputs": [],
   "source": [
    "exemplos = [\n",
    "    {\"pergunta\": \"Quem viveu mais tempo, Muhammad Ali ou Alan Turing?\", \n",
    "     \"resposta\": \n",
    "     \"\"\"São necessárias perguntas de acompanhamento aqui: Sim. \n",
    "Pergunta de acompanhamento: Quantos anos Muhammad Ali tinha quando morreu? \n",
    "Resposta intermediária: Muhammad Ali tinha 74 anos quando morreu. \n",
    "Pergunta de acompanhamento: Quantos anos Alan Turing tinha quando morreu? \n",
    "Resposta intermediária: Alan Turing tinha 41 anos quando morreu. \n",
    "Então a resposta final é: Muhammad Ali \n",
    "\"\"\", \n",
    "    }, \n",
    "    {\"pergunta\": \"Quando nasceu o fundador do craigslist?\", \n",
    "     \"resposta\": \n",
    "\"\"\"São necessárias perguntas de acompanhamento aqui: Sim. \n",
    "Pergunta de acompanhamento: Quem foi o fundador do craigslist? \n",
    "Resposta intermediária: O craigslist foi fundado por Craig Newmark. \n",
    "Pergunta de acompanhamento: Quando nasceu Craig Newmark? \n",
    "Resposta intermediária: Craig Newmark nasceu em 6 de dezembro de 1952. \n",
    "Então a resposta final é: 6 de dezembro de 1952 \n",
    "\"\"\", \n",
    "    }, \n",
    "    {\"pergunta\": \"Quem foi o avô materno de George Washington?\",\n",
    "     \"resposta\": \n",
    "\"\"\"São necessárias perguntas de acompanhamento aqui: Sim. \n",
    "Pergunta de acompanhamento: Quem foi a mãe de George Washington? \n",
    "Resposta intermediária: A mãe de George Washington foi Mary Ball Washington. \n",
    "Pergunta de acompanhamento: Quem foi o pai de Mary Ball Washington? \n",
    "Resposta intermediária: O pai de Mary Ball Washington foi Joseph Ball. \n",
    "Então a resposta final é: Joseph Ball \n",
    "\"\"\", \n",
    "    },\n",
    "    {\"pergunta\": \"Os diretores de Jaws e Casino Royale são do mesmo país?\", \n",
    "     \"resposta\": \n",
    "\"\"\"São necessárias perguntas de acompanhamento aqui: Sim. \n",
    "Pergunta de acompanhamento: Quem é o diretor de Jaws? \n",
    "Resposta Intermediária: O diretor de Jaws é Steven Spielberg. \n",
    "Pergunta de acompanhamento: De onde é Steven Spielberg? \n",
    "Resposta Intermediária: Estados Unidos. \n",
    "Pergunta de acompanhamento: Quem é o diretor de Casino Royale? \n",
    "Resposta Intermediária: O diretor de Casino Royale é Martin Campbell. \n",
    "Pergunta de acompanhamento: De onde é Martin Campbell? \n",
    "Resposta Intermediária: Nova Zelândia. \n",
    "Então a resposta final é: Não \n",
    "\"\"\",\n",
    "    },\n",
    "]"
   ]
  },
  {
   "cell_type": "code",
   "execution_count": 32,
   "id": "6491090e",
   "metadata": {},
   "outputs": [
    {
     "data": {
      "text/plain": [
       "'Pergunta Quem viveu mais tempo, Muhammad Ali ou Alan Turing?\\nSão necessárias perguntas de acompanhamento aqui: Sim. \\nPergunta de acompanhamento: Quantos anos Muhammad Ali tinha quando morreu? \\nResposta intermediária: Muhammad Ali tinha 74 anos quando morreu. \\nPergunta de acompanhamento: Quantos anos Alan Turing tinha quando morreu? \\nResposta intermediária: Alan Turing tinha 41 anos quando morreu. \\nEntão a resposta final é: Muhammad Ali \\n'"
      ]
     },
     "execution_count": 32,
     "metadata": {},
     "output_type": "execute_result"
    }
   ],
   "source": [
    "from langchain.prompts.few_shot import FewShotPromptTemplate\n",
    "from langchain.prompts.prompt import PromptTemplate\n",
    "\n",
    "example_prompt = PromptTemplate(\n",
    "\tinput_variables=['pergunta', 'resposta'],\n",
    "\ttemplate='Pergunta {pergunta}\\n{resposta}'\n",
    ")\n",
    "\n",
    "example_prompt.format(**exemplos[0])"
   ]
  },
  {
   "cell_type": "code",
   "execution_count": 33,
   "id": "00167cae",
   "metadata": {},
   "outputs": [],
   "source": [
    "prompt = FewShotPromptTemplate(\n",
    "\texamples=exemplos,\n",
    "\texample_prompt=example_prompt,\n",
    "\tsuffix='Pergunta: {input}',\n",
    "\tinput_variables=['input']\n",
    ")"
   ]
  },
  {
   "cell_type": "code",
   "execution_count": 34,
   "id": "9a0c399b",
   "metadata": {},
   "outputs": [
    {
     "name": "stdout",
     "output_type": "stream",
     "text": [
      "Pergunta Quem viveu mais tempo, Muhammad Ali ou Alan Turing?\n",
      "São necessárias perguntas de acompanhamento aqui: Sim. \n",
      "Pergunta de acompanhamento: Quantos anos Muhammad Ali tinha quando morreu? \n",
      "Resposta intermediária: Muhammad Ali tinha 74 anos quando morreu. \n",
      "Pergunta de acompanhamento: Quantos anos Alan Turing tinha quando morreu? \n",
      "Resposta intermediária: Alan Turing tinha 41 anos quando morreu. \n",
      "Então a resposta final é: Muhammad Ali \n",
      "\n",
      "\n",
      "Pergunta Quando nasceu o fundador do craigslist?\n",
      "São necessárias perguntas de acompanhamento aqui: Sim. \n",
      "Pergunta de acompanhamento: Quem foi o fundador do craigslist? \n",
      "Resposta intermediária: O craigslist foi fundado por Craig Newmark. \n",
      "Pergunta de acompanhamento: Quando nasceu Craig Newmark? \n",
      "Resposta intermediária: Craig Newmark nasceu em 6 de dezembro de 1952. \n",
      "Então a resposta final é: 6 de dezembro de 1952 \n",
      "\n",
      "\n",
      "Pergunta Quem foi o avô materno de George Washington?\n",
      "São necessárias perguntas de acompanhamento aqui: Sim. \n",
      "Pergunta de acompanhamento: Quem foi a mãe de George Washington? \n",
      "Resposta intermediária: A mãe de George Washington foi Mary Ball Washington. \n",
      "Pergunta de acompanhamento: Quem foi o pai de Mary Ball Washington? \n",
      "Resposta intermediária: O pai de Mary Ball Washington foi Joseph Ball. \n",
      "Então a resposta final é: Joseph Ball \n",
      "\n",
      "\n",
      "Pergunta Os diretores de Jaws e Casino Royale são do mesmo país?\n",
      "São necessárias perguntas de acompanhamento aqui: Sim. \n",
      "Pergunta de acompanhamento: Quem é o diretor de Jaws? \n",
      "Resposta Intermediária: O diretor de Jaws é Steven Spielberg. \n",
      "Pergunta de acompanhamento: De onde é Steven Spielberg? \n",
      "Resposta Intermediária: Estados Unidos. \n",
      "Pergunta de acompanhamento: Quem é o diretor de Casino Royale? \n",
      "Resposta Intermediária: O diretor de Casino Royale é Martin Campbell. \n",
      "Pergunta de acompanhamento: De onde é Martin Campbell? \n",
      "Resposta Intermediária: Nova Zelândia. \n",
      "Então a resposta final é: Não \n",
      "\n",
      "\n",
      "Pergunta: Quem fez mais gols, romário ou pelé?\n"
     ]
    }
   ],
   "source": [
    "print(prompt.format(input='Quem fez mais gols, romário ou pelé?'))"
   ]
  },
  {
   "cell_type": "code",
   "execution_count": 35,
   "id": "8d586f2f",
   "metadata": {},
   "outputs": [
    {
     "data": {
      "text/plain": [
       "'\\nSão necessárias perguntas de acompanhamento aqui: Sim.\\nPergunta de acompanhamento: Quantos gols Romário fez em sua carreira?\\nResposta intermediária: Romário fez 772 gols em sua carreira.\\nPergunta de acompanhamento: Quantos gols Pelé fez em sua carreira?\\nResposta intermediária: Pelé fez 1281 gols em sua carreira.\\nEntão a resposta final é: Pelé'"
      ]
     },
     "execution_count": 35,
     "metadata": {},
     "output_type": "execute_result"
    }
   ],
   "source": [
    "llm.invoke(prompt.format(input='Quem fez mais gols, romário ou pelé?'))"
   ]
  },
  {
   "cell_type": "markdown",
   "id": "58b3f1a2",
   "metadata": {},
   "source": [
    "### Templates de few-shot prompting para chats"
   ]
  },
  {
   "cell_type": "code",
   "execution_count": 37,
   "id": "3e51584e",
   "metadata": {},
   "outputs": [],
   "source": [
    "from langchain.prompts.few_shot import FewShotChatMessagePromptTemplate\n",
    "from langchain.prompts import ChatPromptTemplate"
   ]
  },
  {
   "cell_type": "code",
   "execution_count": 41,
   "id": "8471e0b3",
   "metadata": {},
   "outputs": [
    {
     "name": "stdout",
     "output_type": "stream",
     "text": [
      "[HumanMessage(content='Quem viveu mais tempo, Muhammad Ali ou Alan Turing?', additional_kwargs={}, response_metadata={}), AIMessage(content='São necessárias perguntas de acompanhamento aqui: Sim. \\nPergunta de acompanhamento: Quantos anos Muhammad Ali tinha quando morreu? \\nResposta intermediária: Muhammad Ali tinha 74 anos quando morreu. \\nPergunta de acompanhamento: Quantos anos Alan Turing tinha quando morreu? \\nResposta intermediária: Alan Turing tinha 41 anos quando morreu. \\nEntão a resposta final é: Muhammad Ali \\n', additional_kwargs={}, response_metadata={})]\n"
     ]
    }
   ],
   "source": [
    "example_prompt = ChatPromptTemplate.from_messages(\n",
    "\t[\n",
    "\t\t('human', '{pergunta}'),\n",
    "\t\t('ai', '{resposta}')\n",
    "\t]\n",
    ")\n",
    "\n",
    "print(example_prompt.format_messages(**exemplos[0]))"
   ]
  },
  {
   "cell_type": "code",
   "execution_count": 49,
   "id": "e6cc29c2",
   "metadata": {},
   "outputs": [
    {
     "data": {
      "text/plain": [
       "'\\nAI: São necessárias perguntas de acompanhamento aqui: Sim. \\nPergunta de acompanhamento: Quantos gols Pelé fez em sua carreira? \\nResposta intermediária: Pelé fez 1283 gols em sua carreira. \\nPergunta de acompanhamento: Quantos gols Romário fez em sua carreira? \\nResposta intermediária: Romário fez 772 gols em sua carreira. \\nEntão a resposta final é: Pelé'"
      ]
     },
     "execution_count": 49,
     "metadata": {},
     "output_type": "execute_result"
    }
   ],
   "source": [
    "few_shot_template = FewShotChatMessagePromptTemplate(\n",
    "\texamples=exemplos,\n",
    "\texample_prompt=example_prompt\n",
    ")\n",
    "prompt_template = ChatPromptTemplate.from_messages(\n",
    "\t[\n",
    "\t\tfew_shot_template,\n",
    "\t\t('human', '{input}')\n",
    "\t]\n",
    ")\n",
    "\n",
    "prompt = prompt_template.format_messages(input='Quem fez mais gols, romário ou pelé?')\n",
    "chat.invoke(prompt)"
   ]
  },
  {
   "cell_type": "code",
   "execution_count": null,
   "id": "727d0d99",
   "metadata": {},
   "outputs": [],
   "source": []
  }
 ],
 "metadata": {
  "kernelspec": {
   "display_name": "LLM",
   "language": "python",
   "name": "python3"
  },
  "language_info": {
   "codemirror_mode": {
    "name": "ipython",
    "version": 3
   },
   "file_extension": ".py",
   "mimetype": "text/x-python",
   "name": "python",
   "nbconvert_exporter": "python",
   "pygments_lexer": "ipython3",
   "version": "3.11.8"
  }
 },
 "nbformat": 4,
 "nbformat_minor": 5
}
